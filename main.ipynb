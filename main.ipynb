{
 "cells": [
  {
   "cell_type": "code",
   "execution_count": null,
   "metadata": {},
   "outputs": [],
   "source": [
    "import io\n",
    "from typing import List\n",
    "\n",
    "import joblib\n",
    "\n",
    "import numpy as np\n",
    "import pandas as pd\n",
    "from pydantic import BaseModel\n",
    "\n",
    "from fastapi import FastAPI\n",
    "\n",
    "\n",
    "class Model(BaseModel):\n",
    "    X: List[str]\n",
    "\n",
    "\n",
    "app = FastAPI()\n",
    "\n",
    "loaded_model = joblib.load('model.pkl')\n",
    "\n",
    "\n",
    "@app.post('/predict')\n",
    "@app.get('/predict')\n",
    "def predict_model(model: Model):\n",
    "    string_data = \"\"\"datetime,Accelerometer1RMS,Accelerometer2RMS,Current,Pressure,Temperature,Thermocouple,Voltage,Volume Flow RateRMS\n",
    "    \"\"\" + '\\r\\n'.join(model.X)\n",
    "    df = pd.read_csv(io.StringIO(string_data), sep=',', index_col='datetime')\n",
    "    result = loaded_model.predict(df)\n",
    "    return {\"result\": ','.join(map(str, result))}\n",
    "\n",
    "\n",
    "def main():\n",
    "    import uvicorn\n",
    "    uvicorn.run(app, host='127.0.0.1', port=8000)\n",
    "\n",
    "\n",
    "if __name__ == '__main__':\n",
    "    main()"
   ]
  }
 ],
 "metadata": {
  "language_info": {
   "name": "python"
  }
 },
 "nbformat": 4,
 "nbformat_minor": 2
}
